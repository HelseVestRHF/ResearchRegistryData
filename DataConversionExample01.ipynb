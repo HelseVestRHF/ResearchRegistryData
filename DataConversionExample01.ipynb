{
 "cells": [
  {
   "cell_type": "markdown",
   "metadata": {},
   "source": [
    "# Data conversion for registry A\n",
    "\n",
    "**Use case**: Fit a linear mixed effect model to registry data<br/>\n",
    "**Data**: Example random dataset<br/>\n",
    "**Tools**: numpy, pandas, matplotlib<br/>\n",
    "**Documentation**: This notebook is part of the Registry Data Scripts project<br/>"
   ]
  },
  {
   "cell_type": "markdown",
   "metadata": {},
   "source": [
    "## Introduction\n",
    "\n",
    "In this example, we are processing some registry data and create additional coded variables. The results are exported into a csv file suitable for a statistical analysis program such as SPSS or R.\n"
   ]
  },
  {
   "cell_type": "code",
   "execution_count": 1,
   "metadata": {},
   "outputs": [],
   "source": [
    "import numpy as numpy\n",
    "import pandas as pd\n",
    "import matplotlib.pyplot as plt"
   ]
  }
 ],
 "metadata": {
  "kernelspec": {
   "display_name": "Python 3.8.2 ('abcd_ml')",
   "language": "python",
   "name": "python3"
  },
  "language_info": {
   "codemirror_mode": {
    "name": "ipython",
    "version": 3
   },
   "file_extension": ".py",
   "mimetype": "text/x-python",
   "name": "python",
   "nbconvert_exporter": "python",
   "pygments_lexer": "ipython3",
   "version": "3.8.2"
  },
  "orig_nbformat": 4,
  "vscode": {
   "interpreter": {
    "hash": "73d12de06fcf8f901b0fe4f34fcf9c43e75defd99a1425cb94bf7b1194057863"
   }
  }
 },
 "nbformat": 4,
 "nbformat_minor": 2
}
